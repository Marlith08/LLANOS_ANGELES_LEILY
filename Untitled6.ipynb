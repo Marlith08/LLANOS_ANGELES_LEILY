{
  "nbformat": 4,
  "nbformat_minor": 0,
  "metadata": {
    "colab": {
      "provenance": []
    },
    "kernelspec": {
      "name": "python3",
      "display_name": "Python 3"
    },
    "language_info": {
      "name": "python"
    }
  },
  "cells": [
    {
      "cell_type": "code",
      "execution_count": null,
      "metadata": {
        "id": "L_1b1-mcQ2JW"
      },
      "outputs": [],
      "source": [
        "import random\n",
        "\n",
        "class Conexion:\n",
        "    def __int__(self, nombre, peso):\n",
        "        self.nombre=nombre\n",
        "        self.peso = peso\n",
        "        self.cercanos =[]\n",
        "\n",
        "    def añadircercanos(self, cercanos):\n",
        "        self.cercanos.append(cercanos)\n",
        "\n",
        "    def mensaje(self, mensaje):\n",
        "\n",
        "        if self.cercanos:\n",
        "            self.cercanos = random.randint(self.cercanos)\n",
        "            print(f\"El mensaje a sido enviado desde el {self.nombre}, hacia el {self.cercanos}: {mensaje}\")\n",
        "            self.mensaje(mensaje)\n",
        "\n",
        "        else:\n",
        "            print(\"El mensaje no ha sido enviado {self.nombre}\")\n",
        "\n",
        "def ARPnet(nombre, mensaje):\n",
        "\n",
        "  for i in range(mensaje)\n",
        "\n",
        "\n",
        "\n",
        "\n",
        "\n",
        "\n",
        "\n",
        "#Nodos iniciales\n",
        "Nodo1 = Conexion(\"Nodo_1\")\n",
        "Nodo2 = Conexion(\"Nodo_2\")\n",
        "Nodo3 = Conexion(\"Nodo_3\")\n",
        "Nodo4 = Conexion(\"Nodo_4\")\n",
        "\n",
        "#conexion\n",
        "Nodo1.add.cercanos(Nodo4)\n",
        "Nodo2.add.cercanos(Nodo3)\n",
        "Nodo3.add.cercanos(Nodo1)\n",
        "Nodo4.add.cercanos(Nodo2)\n",
        "Nodo4.add.cercanos(Nodo3)\n",
        "\n",
        "nodos = [Nodo1, Nodo2, Nodo3, Nodo4]\n",
        "\n",
        "\n"
      ]
    }
  ]
}